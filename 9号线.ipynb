{
 "cells": [
  {
   "cell_type": "code",
   "execution_count": 10,
   "metadata": {},
   "outputs": [
    {
     "name": "stdout",
     "output_type": "stream",
     "text": [
      "当前正在爬取: https://sh.lianjia.com/ditiefang/li143685064/pg1mw1y4sf1l2l3a3a4p3p4/\n",
      "当前正在爬取: https://sh.lianjia.com/ditiefang/li143685064/pg2mw1y4sf1l2l3a3a4p3p4/\n",
      "当前正在爬取: https://sh.lianjia.com/ditiefang/li143685064/pg3mw1y4sf1l2l3a3a4p3p4/\n"
     ]
    }
   ],
   "source": [
    "# -* coding: utf-8 *-\n",
    "#author: wangshx6\n",
    "#data: 2018-11-07\n",
    "#descriptinon: 爬取链家深圳全部二手房的详细信息，并将爬取的数据存储到CSV文\n",
    " \n",
    "import requests\n",
    "from bs4 import BeautifulSoup\n",
    "import pandas as pd\n",
    "from fake_useragent import UserAgent\n",
    "\n",
    "URL1=\"https://www.bluenile.com/cn/diamonds/round-cut\"\n",
    "URL2=\"https://sh.lianjia.com/ditiefang/li143685064/pg{}mw1y4sf1l2l3a3a4p3p4/\"\n",
    "name=\"bluenile\"\n",
    " \n",
    "class bluenileSpider(object):\n",
    " \n",
    "    def __init__(self):\n",
    "        self.headers = {\"User-Agent\": UserAgent().random}\n",
    "        self.datas = list()\n",
    " \n",
    "\n",
    " \n",
    " \n",
    "    def parsePage(self, url):\n",
    "        #maxPage = self.getMaxPage(url)\n",
    "        \n",
    "        \n",
    "        print(\"当前正在爬取: {}\".format(url))\n",
    "        response = requests.get(url, headers = self.headers)\n",
    "        soup = BeautifulSoup(response.text, \"html.parser\")\n",
    "        links = soup.find(\"div\", class_ = \"rowgroup\")\n",
    "        urls =  links.find(\"a\")[\"href\"]\n",
    "        for link in urls:    \n",
    "            detail = self.parseDetail(link)\n",
    "            self.datas.append(detail)\n",
    " \n",
    "        #  将所有爬取的二手房数据存储到csv文件中\n",
    "        data = pd.DataFrame(self.datas)\n",
    "        # columns字段：自定义列的顺序（DataFrame默认按列名的字典序排序）\n",
    "        columns = [\"价格 \", \"成色\", \"净度\", \"克拉重量\", \"荧光\", \"钻身高度\", \"桌面\", \"抛光度\", \"对称度\",\"腰棱\",\"底尖\",\"量度尺寸\",\"编号\"]\n",
    "        data.to_csv(\".\\bluenile.csv\", encoding='utf_8_sig', index=False, columns=columns)\n",
    " \n",
    " \n",
    "    def parseDetail(self, url):\n",
    "        response = requests.get(url, headers = self.headers)\n",
    "        detail = {}\n",
    "        if response.status_code == 200:\n",
    "            soup = BeautifulSoup(response.text, \"html.parser\")\n",
    "            detail[\"价格\"] = soup.find(\"span\", class_ = \"pricelabel\").text\n",
    "            detail[\"成色\"] = soup.find(\"span\", class_ = \"color-column-1\").text\n",
    "            detail[\"净度\"] = soup.find(\"span\", class_ = \"clarity-column-1\").text\n",
    "            detail[\"克拉重量\"] = soup.find(\"span\", class_ = \"carat-weight-column-1\").text\n",
    "            detail[\"净度\"] = soup.find(\"span\", class_ = \"clarity -column-1\").text\n",
    "            detail[\"净度\"] = soup.find(\"span\", class_ = \"clarity -column-1\").text\n",
    "            detail[\"净度\"] = soup.find(\"span\", class_ = \"clarity -column-1\").text\n",
    "            detail[\"净度\"] = soup.find(\"span\", class_ = \"clarity -column-1\").text\n",
    "            detail[\"净度\"] = soup.find(\"span\", class_ = \"clarity -column-1\").text\n",
    "            detail[\"净度\"] = soup.find(\"span\", class_ = \"clarity -column-1\").text\n",
    "            detail[\"净度\"] = soup.find(\"span\", class_ = \"clarity -column-1\").text\n",
    "            detail[\"净度\"] = soup.find(\"span\", class_ = \"clarity -column-1\").text\n",
    "            \n",
    "            return detail\n",
    "        else:\n",
    "            return None\n",
    " \n",
    "if __name__ == \"__main__\":\n",
    "    Lianjia = LianjiaSpider()\n",
    "    Lianjia.parsePage(URL1)"
   ]
  },
  {
   "cell_type": "code",
   "execution_count": 9,
   "metadata": {},
   "outputs": [
    {
     "name": "stdout",
     "output_type": "stream",
     "text": [
      "2\n"
     ]
    }
   ],
   "source": []
  },
  {
   "cell_type": "code",
   "execution_count": null,
   "metadata": {},
   "outputs": [],
   "source": []
  }
 ],
 "metadata": {
  "kernelspec": {
   "display_name": "Python 3",
   "language": "python",
   "name": "python3"
  },
  "language_info": {
   "codemirror_mode": {
    "name": "ipython",
    "version": 3
   },
   "file_extension": ".py",
   "mimetype": "text/x-python",
   "name": "python",
   "nbconvert_exporter": "python",
   "pygments_lexer": "ipython3",
   "version": "3.7.3"
  }
 },
 "nbformat": 4,
 "nbformat_minor": 2
}
