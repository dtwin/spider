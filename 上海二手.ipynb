{
 "cells": [
  {
   "cell_type": "code",
   "execution_count": 2,
   "metadata": {},
   "outputs": [
    {
     "ename": "AttributeError",
     "evalue": "module 'pandas' has no attribute '_libs'",
     "output_type": "error",
     "traceback": [
      "\u001b[1;31m---------------------------------------------------------------------------\u001b[0m",
      "\u001b[1;31mAttributeError\u001b[0m                            Traceback (most recent call last)",
      "\u001b[1;32m<ipython-input-2-0ecd0515d5ab>\u001b[0m in \u001b[0;36m<module>\u001b[1;34m\u001b[0m\n\u001b[0;32m      6\u001b[0m \u001b[1;32mimport\u001b[0m \u001b[0mrequests\u001b[0m\u001b[1;33m\u001b[0m\u001b[1;33m\u001b[0m\u001b[0m\n\u001b[0;32m      7\u001b[0m \u001b[1;32mfrom\u001b[0m \u001b[0mbs4\u001b[0m \u001b[1;32mimport\u001b[0m \u001b[0mBeautifulSoup\u001b[0m\u001b[1;33m\u001b[0m\u001b[1;33m\u001b[0m\u001b[0m\n\u001b[1;32m----> 8\u001b[1;33m \u001b[1;32mimport\u001b[0m \u001b[0mpandas\u001b[0m \u001b[1;32mas\u001b[0m \u001b[0mpd\u001b[0m\u001b[1;33m\u001b[0m\u001b[1;33m\u001b[0m\u001b[0m\n\u001b[0m\u001b[0;32m      9\u001b[0m \u001b[1;32mfrom\u001b[0m \u001b[0mfake_useragent\u001b[0m \u001b[1;32mimport\u001b[0m \u001b[0mUserAgent\u001b[0m\u001b[1;33m\u001b[0m\u001b[1;33m\u001b[0m\u001b[0m\n\u001b[0;32m     10\u001b[0m \u001b[1;33m\u001b[0m\u001b[0m\n",
      "\u001b[1;32m~\\Anaconda3\\lib\\site-packages\\pandas\\__init__.py\u001b[0m in \u001b[0;36m<module>\u001b[1;34m\u001b[0m\n\u001b[0;32m     43\u001b[0m \u001b[1;32mfrom\u001b[0m \u001b[0mpandas\u001b[0m\u001b[1;33m.\u001b[0m\u001b[0mcore\u001b[0m\u001b[1;33m.\u001b[0m\u001b[0msparse\u001b[0m\u001b[1;33m.\u001b[0m\u001b[0mapi\u001b[0m \u001b[1;32mimport\u001b[0m \u001b[1;33m*\u001b[0m\u001b[1;33m\u001b[0m\u001b[1;33m\u001b[0m\u001b[0m\n\u001b[0;32m     44\u001b[0m \u001b[1;32mfrom\u001b[0m \u001b[0mpandas\u001b[0m\u001b[1;33m.\u001b[0m\u001b[0mtseries\u001b[0m\u001b[1;33m.\u001b[0m\u001b[0mapi\u001b[0m \u001b[1;32mimport\u001b[0m \u001b[1;33m*\u001b[0m\u001b[1;33m\u001b[0m\u001b[1;33m\u001b[0m\u001b[0m\n\u001b[1;32m---> 45\u001b[1;33m \u001b[1;32mfrom\u001b[0m \u001b[0mpandas\u001b[0m\u001b[1;33m.\u001b[0m\u001b[0mcore\u001b[0m\u001b[1;33m.\u001b[0m\u001b[0mcomputation\u001b[0m\u001b[1;33m.\u001b[0m\u001b[0mapi\u001b[0m \u001b[1;32mimport\u001b[0m \u001b[1;33m*\u001b[0m\u001b[1;33m\u001b[0m\u001b[1;33m\u001b[0m\u001b[0m\n\u001b[0m\u001b[0;32m     46\u001b[0m \u001b[1;32mfrom\u001b[0m \u001b[0mpandas\u001b[0m\u001b[1;33m.\u001b[0m\u001b[0mcore\u001b[0m\u001b[1;33m.\u001b[0m\u001b[0mreshape\u001b[0m\u001b[1;33m.\u001b[0m\u001b[0mapi\u001b[0m \u001b[1;32mimport\u001b[0m \u001b[1;33m*\u001b[0m\u001b[1;33m\u001b[0m\u001b[1;33m\u001b[0m\u001b[0m\n\u001b[0;32m     47\u001b[0m \u001b[1;33m\u001b[0m\u001b[0m\n",
      "\u001b[1;32m~\\Anaconda3\\lib\\site-packages\\pandas\\core\\computation\\api.py\u001b[0m in \u001b[0;36m<module>\u001b[1;34m\u001b[0m\n\u001b[0;32m      1\u001b[0m \u001b[1;31m# flake8: noqa\u001b[0m\u001b[1;33m\u001b[0m\u001b[1;33m\u001b[0m\u001b[1;33m\u001b[0m\u001b[0m\n\u001b[0;32m      2\u001b[0m \u001b[1;33m\u001b[0m\u001b[0m\n\u001b[1;32m----> 3\u001b[1;33m \u001b[1;32mfrom\u001b[0m \u001b[0mpandas\u001b[0m\u001b[1;33m.\u001b[0m\u001b[0mcore\u001b[0m\u001b[1;33m.\u001b[0m\u001b[0mcomputation\u001b[0m\u001b[1;33m.\u001b[0m\u001b[0meval\u001b[0m \u001b[1;32mimport\u001b[0m \u001b[0meval\u001b[0m\u001b[1;33m\u001b[0m\u001b[1;33m\u001b[0m\u001b[0m\n\u001b[0m",
      "\u001b[1;32m~\\Anaconda3\\lib\\site-packages\\pandas\\core\\computation\\eval.py\u001b[0m in \u001b[0;36m<module>\u001b[1;34m\u001b[0m\n\u001b[0;32m     10\u001b[0m \u001b[1;32mfrom\u001b[0m \u001b[0mpandas\u001b[0m\u001b[1;33m.\u001b[0m\u001b[0mutil\u001b[0m\u001b[1;33m.\u001b[0m\u001b[0m_validators\u001b[0m \u001b[1;32mimport\u001b[0m \u001b[0mvalidate_bool_kwarg\u001b[0m\u001b[1;33m\u001b[0m\u001b[1;33m\u001b[0m\u001b[0m\n\u001b[0;32m     11\u001b[0m \u001b[1;33m\u001b[0m\u001b[0m\n\u001b[1;32m---> 12\u001b[1;33m \u001b[1;32mfrom\u001b[0m \u001b[0mpandas\u001b[0m\u001b[1;33m.\u001b[0m\u001b[0mcore\u001b[0m\u001b[1;33m.\u001b[0m\u001b[0mcomputation\u001b[0m\u001b[1;33m.\u001b[0m\u001b[0mengines\u001b[0m \u001b[1;32mimport\u001b[0m \u001b[0m_engines\u001b[0m\u001b[1;33m\u001b[0m\u001b[1;33m\u001b[0m\u001b[0m\n\u001b[0m\u001b[0;32m     13\u001b[0m \u001b[1;32mfrom\u001b[0m \u001b[0mpandas\u001b[0m\u001b[1;33m.\u001b[0m\u001b[0mcore\u001b[0m\u001b[1;33m.\u001b[0m\u001b[0mcomputation\u001b[0m\u001b[1;33m.\u001b[0m\u001b[0mscope\u001b[0m \u001b[1;32mimport\u001b[0m \u001b[0m_ensure_scope\u001b[0m\u001b[1;33m\u001b[0m\u001b[1;33m\u001b[0m\u001b[0m\n\u001b[0;32m     14\u001b[0m \u001b[1;33m\u001b[0m\u001b[0m\n",
      "\u001b[1;32m~\\Anaconda3\\lib\\site-packages\\pandas\\core\\computation\\engines.py\u001b[0m in \u001b[0;36m<module>\u001b[1;34m\u001b[0m\n\u001b[0;32m      9\u001b[0m \u001b[1;32mfrom\u001b[0m \u001b[0mpandas\u001b[0m \u001b[1;32mimport\u001b[0m \u001b[0mcompat\u001b[0m\u001b[1;33m\u001b[0m\u001b[1;33m\u001b[0m\u001b[0m\n\u001b[0;32m     10\u001b[0m \u001b[1;32mfrom\u001b[0m \u001b[0mpandas\u001b[0m\u001b[1;33m.\u001b[0m\u001b[0mcore\u001b[0m\u001b[1;33m.\u001b[0m\u001b[0mcomputation\u001b[0m\u001b[1;33m.\u001b[0m\u001b[0malign\u001b[0m \u001b[1;32mimport\u001b[0m \u001b[0m_align\u001b[0m\u001b[1;33m,\u001b[0m \u001b[0m_reconstruct_object\u001b[0m\u001b[1;33m\u001b[0m\u001b[1;33m\u001b[0m\u001b[0m\n\u001b[1;32m---> 11\u001b[1;33m from pandas.core.computation.ops import (\n\u001b[0m\u001b[0;32m     12\u001b[0m     UndefinedVariableError, _mathops, _reductions)\n\u001b[0;32m     13\u001b[0m \u001b[1;33m\u001b[0m\u001b[0m\n",
      "\u001b[1;32m~\\Anaconda3\\lib\\site-packages\\pandas\\core\\computation\\ops.py\u001b[0m in \u001b[0;36m<module>\u001b[1;34m\u001b[0m\n\u001b[0;32m     17\u001b[0m \u001b[1;32mimport\u001b[0m \u001b[0mpandas\u001b[0m\u001b[1;33m.\u001b[0m\u001b[0mcore\u001b[0m\u001b[1;33m.\u001b[0m\u001b[0mcommon\u001b[0m \u001b[1;32mas\u001b[0m \u001b[0mcom\u001b[0m\u001b[1;33m\u001b[0m\u001b[1;33m\u001b[0m\u001b[0m\n\u001b[0;32m     18\u001b[0m \u001b[1;32mfrom\u001b[0m \u001b[0mpandas\u001b[0m\u001b[1;33m.\u001b[0m\u001b[0mcore\u001b[0m\u001b[1;33m.\u001b[0m\u001b[0mcomputation\u001b[0m\u001b[1;33m.\u001b[0m\u001b[0mcommon\u001b[0m \u001b[1;32mimport\u001b[0m \u001b[0m_ensure_decoded\u001b[0m\u001b[1;33m,\u001b[0m \u001b[0m_result_type_many\u001b[0m\u001b[1;33m\u001b[0m\u001b[1;33m\u001b[0m\u001b[0m\n\u001b[1;32m---> 19\u001b[1;33m \u001b[1;32mfrom\u001b[0m \u001b[0mpandas\u001b[0m\u001b[1;33m.\u001b[0m\u001b[0mcore\u001b[0m\u001b[1;33m.\u001b[0m\u001b[0mcomputation\u001b[0m\u001b[1;33m.\u001b[0m\u001b[0mscope\u001b[0m \u001b[1;32mimport\u001b[0m \u001b[0m_DEFAULT_GLOBALS\u001b[0m\u001b[1;33m\u001b[0m\u001b[1;33m\u001b[0m\u001b[0m\n\u001b[0m\u001b[0;32m     20\u001b[0m \u001b[1;33m\u001b[0m\u001b[0m\n\u001b[0;32m     21\u001b[0m \u001b[1;32mfrom\u001b[0m \u001b[0mpandas\u001b[0m\u001b[1;33m.\u001b[0m\u001b[0mio\u001b[0m\u001b[1;33m.\u001b[0m\u001b[0mformats\u001b[0m\u001b[1;33m.\u001b[0m\u001b[0mprinting\u001b[0m \u001b[1;32mimport\u001b[0m \u001b[0mpprint_thing\u001b[0m\u001b[1;33m,\u001b[0m \u001b[0mpprint_thing_encoded\u001b[0m\u001b[1;33m\u001b[0m\u001b[1;33m\u001b[0m\u001b[0m\n",
      "\u001b[1;32m~\\Anaconda3\\lib\\site-packages\\pandas\\core\\computation\\scope.py\u001b[0m in \u001b[0;36m<module>\u001b[1;34m\u001b[0m\n\u001b[0;32m     49\u001b[0m \u001b[1;33m\u001b[0m\u001b[0m\n\u001b[0;32m     50\u001b[0m _DEFAULT_GLOBALS = {\n\u001b[1;32m---> 51\u001b[1;33m     \u001b[1;34m'Timestamp'\u001b[0m\u001b[1;33m:\u001b[0m \u001b[0mpd\u001b[0m\u001b[1;33m.\u001b[0m\u001b[0m_libs\u001b[0m\u001b[1;33m.\u001b[0m\u001b[0mtslib\u001b[0m\u001b[1;33m.\u001b[0m\u001b[0mTimestamp\u001b[0m\u001b[1;33m,\u001b[0m\u001b[1;33m\u001b[0m\u001b[1;33m\u001b[0m\u001b[0m\n\u001b[0m\u001b[0;32m     52\u001b[0m     \u001b[1;34m'datetime'\u001b[0m\u001b[1;33m:\u001b[0m \u001b[0mdatetime\u001b[0m\u001b[1;33m.\u001b[0m\u001b[0mdatetime\u001b[0m\u001b[1;33m,\u001b[0m\u001b[1;33m\u001b[0m\u001b[1;33m\u001b[0m\u001b[0m\n\u001b[0;32m     53\u001b[0m     \u001b[1;34m'True'\u001b[0m\u001b[1;33m:\u001b[0m \u001b[1;32mTrue\u001b[0m\u001b[1;33m,\u001b[0m\u001b[1;33m\u001b[0m\u001b[1;33m\u001b[0m\u001b[0m\n",
      "\u001b[1;31mAttributeError\u001b[0m: module 'pandas' has no attribute '_libs'"
     ]
    }
   ],
   "source": [
    "# -* coding: utf-8 *-\n",
    "#author: wangshx6\n",
    "#data: 2018-11-07\n",
    "#descriptinon: 爬取链家深圳全部二手房的详细信息，并将爬取的数据存储到CSV文\n",
    " \n",
    "import requests\n",
    "from bs4 import BeautifulSoup\n",
    "import pandas as pd\n",
    "from fake_useragent import UserAgent\n",
    "\n",
    "URL1=\"https://sh.lianjia.com/ershoufang/mw1y4f2sf1l2l3a3a4p4p5/\"\n",
    "URL2=\"https://sh.lianjia.com/ershoufang/pg{}mw1y4f2sf1l2l3a3a4p4p5/\"\n",
    "name=\"上海-400~800w-20年-2、3室\"\n",
    " \n",
    "class LianjiaSpider(object):\n",
    " \n",
    "    def __init__(self):\n",
    "        self.headers = {\"User-Agent\": UserAgent().random}\n",
    "        self.datas = list()\n",
    " \n",
    "    def getMaxPage(self, url):\n",
    "        response = requests.get(url, headers = self.headers)\n",
    "        if response.status_code == 200:\n",
    "            source = response.text\n",
    "            soup = BeautifulSoup(source, \"html.parser\")\n",
    "            pageData = soup.find(\"div\", class_ = \"page-box house-lst-page-box\")[\"page-data\"]\n",
    "            # pageData = '{\"totalPage\":100,\"curPage\":1}'，通过eval()函数把字符串转换为字典\n",
    "            maxPage = eval(pageData)[\"totalPage\"]\n",
    "            return  maxPage\n",
    "        else:\n",
    "            print(\"Fail status: {}\".format(response.status_code))\n",
    "            return None\n",
    " \n",
    " \n",
    "    def parsePage(self, url):\n",
    "        maxPage = self.getMaxPage(url)\n",
    "        #  解析每个page，获取每个二手房的链接\n",
    "        print(maxPage)\n",
    "        for pageNum in range(1, maxPage+1 ):\n",
    "            url = URL2.format(pageNum)\n",
    "            print(\"当前正在爬取: {}\".format(url))\n",
    "            response = requests.get(url, headers = self.headers)\n",
    "            soup = BeautifulSoup(response.text, \"html.parser\")\n",
    "            links = soup.find_all(\"div\", class_ = \"info clear\")\n",
    "            for i in links:\n",
    "                link = i.find(\"a\")[\"href\"]    #每个<info clear>标签有很多<a>,而我们只需要第一个，所以用find\n",
    "                detail = self.parseDetail(link)\n",
    "                self.datas.append(detail)\n",
    "            print(\"already done：\",pageNum)\n",
    " \n",
    "        #  将所有爬取的二手房数据存储到csv文件中\n",
    "        data = pd.DataFrame(self.datas)\n",
    "        # columns字段：自定义列的顺序（DataFrame默认按列名的字典序排序）\n",
    "        columns = [\"小区\", \"户型\", \"楼层\",\"面积\", \"价格\", \"单价\", \"朝向\", \"电梯\", \"位置\", \"地铁\",\"装修情况\",\"套内面积\",\"使用年限\",\"挂牌时间\",\"房屋年限\"]\n",
    "        data.to_csv(\".\\上海二手.csv\", encoding='utf_8_sig', index=False, columns=columns)\n",
    " \n",
    " \n",
    "    def parseDetail(self, url):\n",
    "        response = requests.get(url, headers = self.headers)\n",
    "        detail = {}\n",
    "        if response.status_code == 200:\n",
    "            soup = BeautifulSoup(response.text, \"html.parser\")\n",
    "            detail[\"价格\"] = soup.find(\"span\", class_ = \"total\").text\n",
    "            detail[\"单价\"] = soup.find(\"span\", class_ = \"unitPriceValue\").text\n",
    "            #detail[\"信息\"] = soup.find(\"div\", class_ = \"houseInfo\").text\n",
    "            \n",
    "            #detail[\"关注\"] = soup.find(\"div\", class_ = \"starIcon\").text\n",
    "            #info = soup.find(\"span\", class_ = \"starIcon\").find_all(\"div\") # 基本信息\n",
    "            #detail[\"关注\"] = info\n",
    "            detail[\"小区\"] = soup.find(\"div\", class_ = \"communityName\").find(\"a\", class_ = \"info\").text\n",
    "            detail[\"位置\"] = soup.find(\"div\", class_=\"areaName\").find(\"span\", class_=\"info\").text\n",
    "            detail[\"地铁\"] = soup.find(\"div\", class_=\"areaName\").find(\"a\", class_=\"supplement\").text\n",
    "            base = soup.find(\"div\", class_ = \"base\").find_all(\"li\") # 基本信息\n",
    "            detail[\"户型\"] = base[0].text[4:]\n",
    "            detail[\"楼层\"] = base[1].text[4:]\n",
    "            detail[\"面积\"] = base[2].text[4:]\n",
    "            detail[\"套内面积\"] = base[4].text[4:]\n",
    "            detail[\"朝向\"] = base[6].text[4:]\n",
    "            detail[\"装修情况\"] = base[8].text[4:]\n",
    "            detail[\"电梯\"] = base[10].text[4:]\n",
    "            detail[\"使用年限\"] = base[11].text[4:]\n",
    "            trans = soup.find(\"div\", class_ = \"transaction\").find_all(\"li\") # 基本信息\n",
    "            detail[\"挂牌时间\"] = trans[0].text[5:]\n",
    "            detail[\"房屋年限\"] = trans[4].text[4:]\n",
    "            \n",
    "            return detail\n",
    "        else:\n",
    "            return None\n",
    " \n",
    "if __name__ == \"__main__\":\n",
    "    Lianjia = LianjiaSpider()\n",
    "    Lianjia.parsePage(URL1)"
   ]
  },
  {
   "cell_type": "code",
   "execution_count": 9,
   "metadata": {},
   "outputs": [
    {
     "name": "stdout",
     "output_type": "stream",
     "text": [
      "2\n"
     ]
    }
   ],
   "source": []
  },
  {
   "cell_type": "code",
   "execution_count": null,
   "metadata": {},
   "outputs": [],
   "source": []
  }
 ],
 "metadata": {
  "kernelspec": {
   "display_name": "Python 3",
   "language": "python",
   "name": "python3"
  },
  "language_info": {
   "codemirror_mode": {
    "name": "ipython",
    "version": 3
   },
   "file_extension": ".py",
   "mimetype": "text/x-python",
   "name": "python",
   "nbconvert_exporter": "python",
   "pygments_lexer": "ipython3",
   "version": "3.7.3"
  }
 },
 "nbformat": 4,
 "nbformat_minor": 2
}
