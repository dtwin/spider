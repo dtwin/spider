{
 "cells": [
  {
   "cell_type": "code",
   "execution_count": 1,
   "metadata": {},
   "outputs": [
    {
     "name": "stdout",
     "output_type": "stream",
     "text": [
      "当前正在爬取: https://sh.lianjia.com/ershoufang/pudong/pg1mw1y4sf1l2l3a3a4p3p4/\n",
      "当前正在爬取: https://sh.lianjia.com/ershoufang/pudong/pg2mw1y4sf1l2l3a3a4p3p4/\n",
      "当前正在爬取: https://sh.lianjia.com/ershoufang/pudong/pg3mw1y4sf1l2l3a3a4p3p4/\n",
      "当前正在爬取: https://sh.lianjia.com/ershoufang/pudong/pg4mw1y4sf1l2l3a3a4p3p4/\n",
      "当前正在爬取: https://sh.lianjia.com/ershoufang/pudong/pg5mw1y4sf1l2l3a3a4p3p4/\n",
      "当前正在爬取: https://sh.lianjia.com/ershoufang/pudong/pg6mw1y4sf1l2l3a3a4p3p4/\n",
      "当前正在爬取: https://sh.lianjia.com/ershoufang/pudong/pg7mw1y4sf1l2l3a3a4p3p4/\n",
      "当前正在爬取: https://sh.lianjia.com/ershoufang/pudong/pg8mw1y4sf1l2l3a3a4p3p4/\n",
      "当前正在爬取: https://sh.lianjia.com/ershoufang/pudong/pg9mw1y4sf1l2l3a3a4p3p4/\n",
      "当前正在爬取: https://sh.lianjia.com/ershoufang/pudong/pg10mw1y4sf1l2l3a3a4p3p4/\n",
      "当前正在爬取: https://sh.lianjia.com/ershoufang/pudong/pg11mw1y4sf1l2l3a3a4p3p4/\n",
      "当前正在爬取: https://sh.lianjia.com/ershoufang/pudong/pg12mw1y4sf1l2l3a3a4p3p4/\n",
      "当前正在爬取: https://sh.lianjia.com/ershoufang/pudong/pg13mw1y4sf1l2l3a3a4p3p4/\n"
     ]
    }
   ],
   "source": [
    "# -* coding: utf-8 *-\n",
    "#author: wangshx6\n",
    "#data: 2018-11-07\n",
    "#descriptinon: 爬取链家深圳全部二手房的详细信息，并将爬取的数据存储到CSV文\n",
    " \n",
    "import requests\n",
    "from bs4 import BeautifulSoup\n",
    "import pandas as pd\n",
    "from fake_useragent import UserAgent\n",
    " \n",
    "class LianjiaSpider(object):\n",
    " \n",
    "    def __init__(self):\n",
    "        self.headers = {\"User-Agent\": UserAgent().random}\n",
    "        self.datas = list()\n",
    " \n",
    "    def getMaxPage(self, url):\n",
    "        response = requests.get(url, headers = self.headers)\n",
    "        if response.status_code == 200:\n",
    "            source = response.text\n",
    "            soup = BeautifulSoup(source, \"html.parser\")\n",
    "            pageData = soup.find(\"div\", class_ = \"page-box house-lst-page-box\")[\"page-data\"]\n",
    "            # pageData = '{\"totalPage\":100,\"curPage\":1}'，通过eval()函数把字符串转换为字典\n",
    "            maxPage = eval(pageData)[\"totalPage\"]\n",
    "            return  maxPage\n",
    "        else:\n",
    "            print(\"Fail status: {}\".format(response.status_code))\n",
    "            return None\n",
    " \n",
    " \n",
    "    def parsePage(self, url):\n",
    "        maxPage = self.getMaxPage(url)\n",
    "        #  解析每个page，获取每个二手房的链接\n",
    "        for pageNum in range(1, maxPage+1 ):\n",
    "            url = \"https://sh.lianjia.com/ershoufang/pudong/pg{}mw1y4sf1l2l3a3a4p3p4/\".format(pageNum)\n",
    "            print(\"当前正在爬取: {}\".format(url))\n",
    "            response = requests.get(url, headers = self.headers)\n",
    "            soup = BeautifulSoup(response.text, \"html.parser\")\n",
    "            links = soup.find_all(\"div\", class_ = \"info clear\")\n",
    "            for i in links:\n",
    "                link = i.find(\"a\")[\"href\"]    #每个<info clear>标签有很多<a>,而我们只需要第一个，所以用find\n",
    "                detail = self.parseDetail(link)\n",
    "                self.datas.append(detail)\n",
    " \n",
    "        #  将所有爬取的二手房数据存储到csv文件中\n",
    "        data = pd.DataFrame(self.datas)\n",
    "        # columns字段：自定义列的顺序（DataFrame默认按列名的字典序排序）\n",
    "        columns = [\"小区\", \"户型\", \"面积\", \"价格\", \"单价\", \"朝向\", \"电梯\", \"位置\", \"地铁\"]\n",
    "        data.to_csv(\".\\Lianjia_II.csv\", encoding='utf_8_sig', index=False, columns=columns)\n",
    " \n",
    " \n",
    "    def parseDetail(self, url):\n",
    "        response = requests.get(url, headers = self.headers)\n",
    "        detail = {}\n",
    "        if response.status_code == 200:\n",
    "            soup = BeautifulSoup(response.text, \"html.parser\")\n",
    "            detail[\"价格\"] = soup.find(\"span\", class_ = \"total\").text\n",
    "            detail[\"单价\"] = soup.find(\"span\", class_ = \"unitPriceValue\").text\n",
    "            detail[\"小区\"] = soup.find(\"div\", class_ = \"communityName\").find(\"a\", class_ = \"info\").text\n",
    "            detail[\"位置\"] = soup.find(\"div\", class_=\"areaName\").find(\"span\", class_=\"info\").text\n",
    "            detail[\"地铁\"] = soup.find(\"div\", class_=\"areaName\").find(\"a\", class_=\"supplement\").text\n",
    "            base = soup.find(\"div\", class_ = \"base\").find_all(\"li\") # 基本信息\n",
    "            detail[\"户型\"] = base[0].text[4:]\n",
    "            detail[\"面积\"] = base[2].text[4:]\n",
    "            detail[\"朝向\"] = base[6].text[4:]\n",
    "            detail[\"电梯\"] = base[10].text[4:]\n",
    "            return detail\n",
    "        else:\n",
    "            return None\n",
    " \n",
    "if __name__ == \"__main__\":\n",
    "    Lianjia = LianjiaSpider()\n",
    "    Lianjia.parsePage(\"https://sh.lianjia.com/ershoufang/pudong/mw1y4sf1l2l3a3a4p3p4/\")"
   ]
  },
  {
   "cell_type": "code",
   "execution_count": 3,
   "metadata": {},
   "outputs": [
    {
     "name": "stdout",
     "output_type": "stream",
     "text": [
      "2\n"
     ]
    }
   ],
   "source": [
    "print(1+1)"
   ]
  },
  {
   "cell_type": "code",
   "execution_count": null,
   "metadata": {},
   "outputs": [],
   "source": []
  }
 ],
 "metadata": {
  "kernelspec": {
   "display_name": "Python 3",
   "language": "python",
   "name": "python3"
  },
  "language_info": {
   "codemirror_mode": {
    "name": "ipython",
    "version": 3
   },
   "file_extension": ".py",
   "mimetype": "text/x-python",
   "name": "python",
   "nbconvert_exporter": "python",
   "pygments_lexer": "ipython3",
   "version": "3.7.3"
  }
 },
 "nbformat": 4,
 "nbformat_minor": 2
}
